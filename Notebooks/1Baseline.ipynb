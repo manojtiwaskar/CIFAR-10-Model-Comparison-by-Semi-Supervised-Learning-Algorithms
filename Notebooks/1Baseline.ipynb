{
  "nbformat": 4,
  "nbformat_minor": 0,
  "metadata": {
    "colab": {
      "name": "Baseline.ipynb",
      "provenance": []
    },
    "kernelspec": {
      "name": "python3",
      "display_name": "Python 3"
    },
    "accelerator": "TPU"
  },
  "cells": [
    {
      "cell_type": "markdown",
      "metadata": {
        "id": "SLQB6deKJIcH",
        "colab_type": "text"
      },
      "source": [
        "https://github.com/zjlszcy/CIFAR-10-CNN/blob/master/lib/Keras_CNN_Baseline.ipynb\n",
        "\n",
        "https://jovianlin.io/saving-loading-keras-models/"
      ]
    },
    {
      "cell_type": "code",
      "metadata": {
        "id": "DWFX6h2-lo5M",
        "colab_type": "code",
        "outputId": "dd4c4a5e-e766-445e-c8a9-3b0262b64e4f",
        "colab": {
          "base_uri": "https://localhost:8080/",
          "height": 122
        }
      },
      "source": [
        "from google.colab import drive\n",
        "drive.mount('/content/drive')"
      ],
      "execution_count": 1,
      "outputs": [
        {
          "output_type": "stream",
          "text": [
            "Go to this URL in a browser: https://accounts.google.com/o/oauth2/auth?client_id=947318989803-6bn6qk8qdgf4n4g3pfee6491hc0brc4i.apps.googleusercontent.com&redirect_uri=urn%3aietf%3awg%3aoauth%3a2.0%3aoob&response_type=code&scope=email%20https%3a%2f%2fwww.googleapis.com%2fauth%2fdocs.test%20https%3a%2f%2fwww.googleapis.com%2fauth%2fdrive%20https%3a%2f%2fwww.googleapis.com%2fauth%2fdrive.photos.readonly%20https%3a%2f%2fwww.googleapis.com%2fauth%2fpeopleapi.readonly\n",
            "\n",
            "Enter your authorization code:\n",
            "··········\n",
            "Mounted at /content/drive\n"
          ],
          "name": "stdout"
        }
      ]
    },
    {
      "cell_type": "code",
      "metadata": {
        "id": "GdLMOt-dlrEZ",
        "colab_type": "code",
        "colab": {}
      },
      "source": [
        "import os\n",
        "\n",
        "import numpy as np\n",
        "import pandas as pd\n",
        "import matplotlib.pyplot as plt\n",
        "from sklearn.decomposition import PCA\n",
        "\n",
        "import pickle\n",
        "import numpy as np\n",
        "import matplotlib.pyplot as plt\n",
        "\n",
        "%matplotlib inline\n",
        "%config InlineBackend.figure_format = 'retina'\n",
        "\n",
        "import tensorflow as tf"
      ],
      "execution_count": 0,
      "outputs": []
    },
    {
      "cell_type": "code",
      "metadata": {
        "id": "gzqHPxz8l-Gu",
        "colab_type": "code",
        "colab": {}
      },
      "source": [
        "ROOT = '/content/drive/My Drive/19 Fall/CSE 569/Project'"
      ],
      "execution_count": 0,
      "outputs": []
    },
    {
      "cell_type": "code",
      "metadata": {
        "id": "MzkpaKlTlsYw",
        "colab_type": "code",
        "outputId": "0f8c764f-efec-45fe-9d39-f3a1f6e04449",
        "colab": {
          "base_uri": "https://localhost:8080/",
          "height": 119
        }
      },
      "source": [
        "X_train = pickle.load(open(ROOT + '/cifar/X_train', mode='rb'))\n",
        "print(X_train.shape)\n",
        "X_test = pickle.load(open(ROOT + '/cifar/X_test', mode='rb'))\n",
        "print(X_test.shape)\n",
        "X_val = pickle.load(open(ROOT + '/cifar/X_val', mode='rb'))\n",
        "print(X_val.shape)\n",
        "y_train = pickle.load(open(ROOT + '/cifar/y_train', mode='rb'))\n",
        "print(y_train.shape)\n",
        "y_test = pickle.load(open(ROOT + '/cifar/y_test', mode='rb'))\n",
        "print(y_test.shape)\n",
        "y_val = pickle.load(open(ROOT + '/cifar/y_val', mode='rb'))\n",
        "print(y_val.shape)"
      ],
      "execution_count": 4,
      "outputs": [
        {
          "output_type": "stream",
          "text": [
            "(32000, 32, 32, 3)\n",
            "(10000, 32, 32, 3)\n",
            "(8000, 32, 32, 3)\n",
            "(32000, 10)\n",
            "(10000, 10)\n",
            "(8000, 10)\n"
          ],
          "name": "stdout"
        }
      ]
    },
    {
      "cell_type": "code",
      "metadata": {
        "id": "fWAXZWyfl7to",
        "colab_type": "code",
        "colab": {
          "base_uri": "https://localhost:8080/",
          "height": 34
        },
        "outputId": "a86f5d42-5c1e-41ba-da29-4de55b17328f"
      },
      "source": [
        "\n",
        "import keras\n",
        "from keras.models import Sequential\n",
        "from keras.utils import np_utils\n",
        "from keras.preprocessing.image import ImageDataGenerator\n",
        "from keras.layers import Dense, Activation, Flatten, Dropout, BatchNormalization\n",
        "from keras.layers import Conv2D, MaxPooling2D\n",
        "from keras import regularizers, optimizers\n",
        "from keras.datasets import cifar10\n",
        "%matplotlib inline\n",
        "import matplotlib.pyplot as plt\n",
        "import numpy as np\n",
        "import time\n"
      ],
      "execution_count": 5,
      "outputs": [
        {
          "output_type": "stream",
          "text": [
            "Using TensorFlow backend.\n"
          ],
          "name": "stderr"
        }
      ]
    },
    {
      "cell_type": "code",
      "metadata": {
        "id": "5K0JY6eFml22",
        "colab_type": "code",
        "colab": {}
      },
      "source": [
        "# Functions for plots\n",
        "def plot_model_history(model_history):\n",
        "    fig, axs = plt.subplots(1, 2,figsize=(10, 5))\n",
        "    # summarize history for accuracy\n",
        "    axs[0].plot(range(1,len(model_history.history['acc'])+1),model_history.history['acc'])\n",
        "    axs[0].plot(range(1,len(model_history.history['val_acc'])+1),model_history.history['val_acc'])\n",
        "    axs[0].set_title('Model Accuracy')\n",
        "    axs[0].set_ylabel('Accuracy')\n",
        "    axs[0].set_xlabel('Epoch')\n",
        "    axs[0].set_xticks(np.arange(1,len(model_history.history['acc'])+1),len(model_history.history['acc'])/10)\n",
        "    axs[0].legend(['train', 'validation'], loc='best')\n",
        "    # summarize history for loss\n",
        "    axs[1].plot(range(1,len(model_history.history['loss'])+1),model_history.history['loss'])\n",
        "    axs[1].plot(range(1,len(model_history.history['val_loss'])+1),model_history.history['val_loss'])\n",
        "    axs[1].set_title('Model Loss')\n",
        "    axs[1].set_ylabel('Loss')\n",
        "    axs[1].set_xlabel('Epoch')\n",
        "    axs[1].set_xticks(np.arange(1,len(model_history.history['loss'])+1),len(model_history.history['loss'])/10)\n",
        "    axs[1].legend(['train', 'validation'], loc='best')\n",
        "    plt.show()"
      ],
      "execution_count": 0,
      "outputs": []
    },
    {
      "cell_type": "code",
      "metadata": {
        "id": "tBCMn6yLnDay",
        "colab_type": "code",
        "outputId": "d3384373-ca04-4689-9466-8d7e8902496a",
        "colab": {
          "base_uri": "https://localhost:8080/",
          "height": 1000
        }
      },
      "source": [
        "# Define the model\n",
        "num_filters = 32\n",
        "\n",
        "model = Sequential()\n",
        "model.add(Conv2D(num_filters, (3,3), padding='same', input_shape=(32, 32, 3)))\n",
        "model.add(Activation('relu'))\n",
        "model.add(Conv2D(num_filters, (3,3), padding='same'))\n",
        "model.add(Activation('relu'))\n",
        "model.add(MaxPooling2D(pool_size=(2,2)))\n",
        "model.add(Dropout(0.2))\n",
        "\n",
        "model.add(Conv2D(2*num_filters, (3,3), padding='same'))\n",
        "model.add(Activation('relu'))\n",
        "model.add(Conv2D(2*num_filters, (3,3), padding='same'))\n",
        "model.add(Activation('relu'))\n",
        "model.add(MaxPooling2D(pool_size=(2,2)))\n",
        "model.add(Dropout(0.25))\n",
        "\n",
        "model.add(Flatten())\n",
        "model.add(Dense(10, activation='softmax'))\n",
        "\n",
        "# Summarize the model\n",
        "model.summary()\n",
        "\n",
        "# Compile the model\n",
        "model.compile(optimizer='adam', loss='categorical_crossentropy', metrics=['accuracy'])\n",
        "\n",
        "# Train the model\n",
        "start = time.time()\n",
        "fit_history = model.fit(X_train, y_train,\n",
        "                       batch_size=128, epochs=100,\n",
        "                       validation_data = (X_test, y_test),\n",
        "                       verbose=1)\n",
        "end = time.time()\n",
        "\n",
        "# Training time\n",
        "print(\"Model took %0.2f seconds to train\"%(end - start))"
      ],
      "execution_count": 7,
      "outputs": [
        {
          "output_type": "stream",
          "text": [
            "WARNING:tensorflow:From /usr/local/lib/python3.6/dist-packages/keras/backend/tensorflow_backend.py:66: The name tf.get_default_graph is deprecated. Please use tf.compat.v1.get_default_graph instead.\n",
            "\n",
            "WARNING:tensorflow:From /usr/local/lib/python3.6/dist-packages/keras/backend/tensorflow_backend.py:541: The name tf.placeholder is deprecated. Please use tf.compat.v1.placeholder instead.\n",
            "\n",
            "WARNING:tensorflow:From /usr/local/lib/python3.6/dist-packages/keras/backend/tensorflow_backend.py:4432: The name tf.random_uniform is deprecated. Please use tf.random.uniform instead.\n",
            "\n",
            "WARNING:tensorflow:From /usr/local/lib/python3.6/dist-packages/keras/backend/tensorflow_backend.py:4267: The name tf.nn.max_pool is deprecated. Please use tf.nn.max_pool2d instead.\n",
            "\n",
            "WARNING:tensorflow:From /usr/local/lib/python3.6/dist-packages/keras/backend/tensorflow_backend.py:148: The name tf.placeholder_with_default is deprecated. Please use tf.compat.v1.placeholder_with_default instead.\n",
            "\n",
            "WARNING:tensorflow:From /usr/local/lib/python3.6/dist-packages/keras/backend/tensorflow_backend.py:3733: calling dropout (from tensorflow.python.ops.nn_ops) with keep_prob is deprecated and will be removed in a future version.\n",
            "Instructions for updating:\n",
            "Please use `rate` instead of `keep_prob`. Rate should be set to `rate = 1 - keep_prob`.\n",
            "Model: \"sequential_1\"\n",
            "_________________________________________________________________\n",
            "Layer (type)                 Output Shape              Param #   \n",
            "=================================================================\n",
            "conv2d_1 (Conv2D)            (None, 32, 32, 32)        896       \n",
            "_________________________________________________________________\n",
            "activation_1 (Activation)    (None, 32, 32, 32)        0         \n",
            "_________________________________________________________________\n",
            "conv2d_2 (Conv2D)            (None, 32, 32, 32)        9248      \n",
            "_________________________________________________________________\n",
            "activation_2 (Activation)    (None, 32, 32, 32)        0         \n",
            "_________________________________________________________________\n",
            "max_pooling2d_1 (MaxPooling2 (None, 16, 16, 32)        0         \n",
            "_________________________________________________________________\n",
            "dropout_1 (Dropout)          (None, 16, 16, 32)        0         \n",
            "_________________________________________________________________\n",
            "conv2d_3 (Conv2D)            (None, 16, 16, 64)        18496     \n",
            "_________________________________________________________________\n",
            "activation_3 (Activation)    (None, 16, 16, 64)        0         \n",
            "_________________________________________________________________\n",
            "conv2d_4 (Conv2D)            (None, 16, 16, 64)        36928     \n",
            "_________________________________________________________________\n",
            "activation_4 (Activation)    (None, 16, 16, 64)        0         \n",
            "_________________________________________________________________\n",
            "max_pooling2d_2 (MaxPooling2 (None, 8, 8, 64)          0         \n",
            "_________________________________________________________________\n",
            "dropout_2 (Dropout)          (None, 8, 8, 64)          0         \n",
            "_________________________________________________________________\n",
            "flatten_1 (Flatten)          (None, 4096)              0         \n",
            "_________________________________________________________________\n",
            "dense_1 (Dense)              (None, 10)                40970     \n",
            "=================================================================\n",
            "Total params: 106,538\n",
            "Trainable params: 106,538\n",
            "Non-trainable params: 0\n",
            "_________________________________________________________________\n",
            "WARNING:tensorflow:From /usr/local/lib/python3.6/dist-packages/keras/optimizers.py:793: The name tf.train.Optimizer is deprecated. Please use tf.compat.v1.train.Optimizer instead.\n",
            "\n",
            "WARNING:tensorflow:From /usr/local/lib/python3.6/dist-packages/keras/backend/tensorflow_backend.py:3576: The name tf.log is deprecated. Please use tf.math.log instead.\n",
            "\n",
            "WARNING:tensorflow:From /usr/local/lib/python3.6/dist-packages/tensorflow_core/python/ops/math_grad.py:1424: where (from tensorflow.python.ops.array_ops) is deprecated and will be removed in a future version.\n",
            "Instructions for updating:\n",
            "Use tf.where in 2.0, which has the same broadcast rule as np.where\n",
            "WARNING:tensorflow:From /usr/local/lib/python3.6/dist-packages/keras/backend/tensorflow_backend.py:1033: The name tf.assign_add is deprecated. Please use tf.compat.v1.assign_add instead.\n",
            "\n",
            "WARNING:tensorflow:From /usr/local/lib/python3.6/dist-packages/keras/backend/tensorflow_backend.py:1020: The name tf.assign is deprecated. Please use tf.compat.v1.assign instead.\n",
            "\n",
            "WARNING:tensorflow:From /usr/local/lib/python3.6/dist-packages/keras/backend/tensorflow_backend.py:3005: The name tf.Session is deprecated. Please use tf.compat.v1.Session instead.\n",
            "\n",
            "Train on 32000 samples, validate on 10000 samples\n",
            "Epoch 1/100\n",
            "WARNING:tensorflow:From /usr/local/lib/python3.6/dist-packages/keras/backend/tensorflow_backend.py:190: The name tf.get_default_session is deprecated. Please use tf.compat.v1.get_default_session instead.\n",
            "\n",
            "WARNING:tensorflow:From /usr/local/lib/python3.6/dist-packages/keras/backend/tensorflow_backend.py:197: The name tf.ConfigProto is deprecated. Please use tf.compat.v1.ConfigProto instead.\n",
            "\n",
            "WARNING:tensorflow:From /usr/local/lib/python3.6/dist-packages/keras/backend/tensorflow_backend.py:207: The name tf.global_variables is deprecated. Please use tf.compat.v1.global_variables instead.\n",
            "\n",
            "WARNING:tensorflow:From /usr/local/lib/python3.6/dist-packages/keras/backend/tensorflow_backend.py:216: The name tf.is_variable_initialized is deprecated. Please use tf.compat.v1.is_variable_initialized instead.\n",
            "\n",
            "WARNING:tensorflow:From /usr/local/lib/python3.6/dist-packages/keras/backend/tensorflow_backend.py:223: The name tf.variables_initializer is deprecated. Please use tf.compat.v1.variables_initializer instead.\n",
            "\n",
            "32000/32000 [==============================] - 173s 5ms/step - loss: 1.7028 - acc: 0.3792 - val_loss: 1.4181 - val_acc: 0.4862\n",
            "Epoch 2/100\n",
            "32000/32000 [==============================] - 173s 5ms/step - loss: 1.3041 - acc: 0.5345 - val_loss: 1.1495 - val_acc: 0.5970\n",
            "Epoch 3/100\n",
            "32000/32000 [==============================] - 174s 5ms/step - loss: 1.1232 - acc: 0.6055 - val_loss: 1.0297 - val_acc: 0.6407\n",
            "Epoch 4/100\n",
            "32000/32000 [==============================] - 173s 5ms/step - loss: 1.0078 - acc: 0.6474 - val_loss: 0.9578 - val_acc: 0.6657\n",
            "Epoch 5/100\n",
            "32000/32000 [==============================] - 173s 5ms/step - loss: 0.9201 - acc: 0.6803 - val_loss: 0.8867 - val_acc: 0.6910\n",
            "Epoch 6/100\n",
            "32000/32000 [==============================] - 172s 5ms/step - loss: 0.8515 - acc: 0.7019 - val_loss: 0.8735 - val_acc: 0.6954\n",
            "Epoch 7/100\n",
            "32000/32000 [==============================] - 173s 5ms/step - loss: 0.7979 - acc: 0.7220 - val_loss: 0.7920 - val_acc: 0.7292\n",
            "Epoch 8/100\n",
            "32000/32000 [==============================] - 173s 5ms/step - loss: 0.7571 - acc: 0.7376 - val_loss: 0.7814 - val_acc: 0.7300\n",
            "Epoch 9/100\n",
            "32000/32000 [==============================] - 173s 5ms/step - loss: 0.7130 - acc: 0.7523 - val_loss: 0.7816 - val_acc: 0.7317\n",
            "Epoch 10/100\n",
            "32000/32000 [==============================] - 172s 5ms/step - loss: 0.6833 - acc: 0.7608 - val_loss: 0.8271 - val_acc: 0.7190\n",
            "Epoch 11/100\n",
            "32000/32000 [==============================] - 172s 5ms/step - loss: 0.6575 - acc: 0.7680 - val_loss: 0.7451 - val_acc: 0.7456\n",
            "Epoch 12/100\n",
            "32000/32000 [==============================] - 173s 5ms/step - loss: 0.6149 - acc: 0.7827 - val_loss: 0.7353 - val_acc: 0.7504\n",
            "Epoch 13/100\n",
            "32000/32000 [==============================] - 173s 5ms/step - loss: 0.6040 - acc: 0.7891 - val_loss: 0.7246 - val_acc: 0.7522\n",
            "Epoch 14/100\n",
            "32000/32000 [==============================] - 173s 5ms/step - loss: 0.5697 - acc: 0.7981 - val_loss: 0.7072 - val_acc: 0.7620\n",
            "Epoch 15/100\n",
            "32000/32000 [==============================] - 172s 5ms/step - loss: 0.5565 - acc: 0.8038 - val_loss: 0.7224 - val_acc: 0.7569\n",
            "Epoch 16/100\n",
            "32000/32000 [==============================] - 172s 5ms/step - loss: 0.5307 - acc: 0.8140 - val_loss: 0.7063 - val_acc: 0.7622\n",
            "Epoch 17/100\n",
            "32000/32000 [==============================] - 172s 5ms/step - loss: 0.5194 - acc: 0.8163 - val_loss: 0.7260 - val_acc: 0.7617\n",
            "Epoch 18/100\n",
            "32000/32000 [==============================] - 173s 5ms/step - loss: 0.5071 - acc: 0.8194 - val_loss: 0.7226 - val_acc: 0.7591\n",
            "Epoch 19/100\n",
            "32000/32000 [==============================] - 173s 5ms/step - loss: 0.4892 - acc: 0.8288 - val_loss: 0.7259 - val_acc: 0.7569\n",
            "Epoch 20/100\n",
            "32000/32000 [==============================] - 173s 5ms/step - loss: 0.4736 - acc: 0.8331 - val_loss: 0.7172 - val_acc: 0.7598\n",
            "Epoch 21/100\n",
            "32000/32000 [==============================] - 172s 5ms/step - loss: 0.4536 - acc: 0.8394 - val_loss: 0.7242 - val_acc: 0.7649\n",
            "Epoch 22/100\n",
            "32000/32000 [==============================] - 172s 5ms/step - loss: 0.4477 - acc: 0.8409 - val_loss: 0.7279 - val_acc: 0.7617\n",
            "Epoch 23/100\n",
            "32000/32000 [==============================] - 172s 5ms/step - loss: 0.4339 - acc: 0.8449 - val_loss: 0.7236 - val_acc: 0.7665\n",
            "Epoch 24/100\n",
            "32000/32000 [==============================] - 172s 5ms/step - loss: 0.4216 - acc: 0.8485 - val_loss: 0.7250 - val_acc: 0.7714\n",
            "Epoch 25/100\n",
            "32000/32000 [==============================] - 172s 5ms/step - loss: 0.4184 - acc: 0.8479 - val_loss: 0.7401 - val_acc: 0.7634\n",
            "Epoch 26/100\n",
            "32000/32000 [==============================] - 172s 5ms/step - loss: 0.3970 - acc: 0.8582 - val_loss: 0.7657 - val_acc: 0.7636\n",
            "Epoch 27/100\n",
            "32000/32000 [==============================] - 172s 5ms/step - loss: 0.3883 - acc: 0.8605 - val_loss: 0.7495 - val_acc: 0.7714\n",
            "Epoch 28/100\n",
            "32000/32000 [==============================] - 172s 5ms/step - loss: 0.3813 - acc: 0.8632 - val_loss: 0.7290 - val_acc: 0.7693\n",
            "Epoch 29/100\n",
            "32000/32000 [==============================] - 172s 5ms/step - loss: 0.3703 - acc: 0.8670 - val_loss: 0.7473 - val_acc: 0.7702\n",
            "Epoch 30/100\n",
            "32000/32000 [==============================] - 173s 5ms/step - loss: 0.3676 - acc: 0.8678 - val_loss: 0.7621 - val_acc: 0.7644\n",
            "Epoch 31/100\n",
            "32000/32000 [==============================] - 172s 5ms/step - loss: 0.3564 - acc: 0.8701 - val_loss: 0.7452 - val_acc: 0.7733\n",
            "Epoch 32/100\n",
            "32000/32000 [==============================] - 172s 5ms/step - loss: 0.3524 - acc: 0.8714 - val_loss: 0.7432 - val_acc: 0.7676\n",
            "Epoch 33/100\n",
            "32000/32000 [==============================] - 172s 5ms/step - loss: 0.3420 - acc: 0.8756 - val_loss: 0.7797 - val_acc: 0.7743\n",
            "Epoch 34/100\n",
            "32000/32000 [==============================] - 171s 5ms/step - loss: 0.3303 - acc: 0.8793 - val_loss: 0.7599 - val_acc: 0.7761\n",
            "Epoch 35/100\n",
            "32000/32000 [==============================] - 170s 5ms/step - loss: 0.3308 - acc: 0.8818 - val_loss: 0.8056 - val_acc: 0.7708\n",
            "Epoch 36/100\n",
            "32000/32000 [==============================] - 170s 5ms/step - loss: 0.3187 - acc: 0.8844 - val_loss: 0.7974 - val_acc: 0.7707\n",
            "Epoch 37/100\n",
            "32000/32000 [==============================] - 170s 5ms/step - loss: 0.3117 - acc: 0.8877 - val_loss: 0.8094 - val_acc: 0.7646\n",
            "Epoch 38/100\n",
            "32000/32000 [==============================] - 170s 5ms/step - loss: 0.3071 - acc: 0.8883 - val_loss: 0.8076 - val_acc: 0.7667\n",
            "Epoch 39/100\n",
            "32000/32000 [==============================] - 170s 5ms/step - loss: 0.3115 - acc: 0.8873 - val_loss: 0.7935 - val_acc: 0.7667\n",
            "Epoch 40/100\n",
            "32000/32000 [==============================] - 170s 5ms/step - loss: 0.3047 - acc: 0.8890 - val_loss: 0.8079 - val_acc: 0.7694\n",
            "Epoch 41/100\n",
            "32000/32000 [==============================] - 170s 5ms/step - loss: 0.2960 - acc: 0.8930 - val_loss: 0.8164 - val_acc: 0.7714\n",
            "Epoch 42/100\n",
            "32000/32000 [==============================] - 170s 5ms/step - loss: 0.2861 - acc: 0.8946 - val_loss: 0.8301 - val_acc: 0.7742\n",
            "Epoch 43/100\n",
            "32000/32000 [==============================] - 171s 5ms/step - loss: 0.2861 - acc: 0.8962 - val_loss: 0.8347 - val_acc: 0.7703\n",
            "Epoch 44/100\n",
            "32000/32000 [==============================] - 171s 5ms/step - loss: 0.2826 - acc: 0.8985 - val_loss: 0.8425 - val_acc: 0.7668\n",
            "Epoch 45/100\n",
            "32000/32000 [==============================] - 171s 5ms/step - loss: 0.2794 - acc: 0.8997 - val_loss: 0.8434 - val_acc: 0.7731\n",
            "Epoch 46/100\n",
            "32000/32000 [==============================] - 170s 5ms/step - loss: 0.2765 - acc: 0.8992 - val_loss: 0.8518 - val_acc: 0.7724\n",
            "Epoch 47/100\n",
            "32000/32000 [==============================] - 169s 5ms/step - loss: 0.2725 - acc: 0.9014 - val_loss: 0.8399 - val_acc: 0.7746\n",
            "Epoch 48/100\n",
            "32000/32000 [==============================] - 169s 5ms/step - loss: 0.2643 - acc: 0.9035 - val_loss: 0.8598 - val_acc: 0.7686\n",
            "Epoch 49/100\n",
            "32000/32000 [==============================] - 169s 5ms/step - loss: 0.2632 - acc: 0.9053 - val_loss: 0.8250 - val_acc: 0.7748\n",
            "Epoch 50/100\n",
            "32000/32000 [==============================] - 169s 5ms/step - loss: 0.2694 - acc: 0.9024 - val_loss: 0.8392 - val_acc: 0.7719\n",
            "Epoch 51/100\n",
            "32000/32000 [==============================] - 169s 5ms/step - loss: 0.2592 - acc: 0.9048 - val_loss: 0.8385 - val_acc: 0.7749\n",
            "Epoch 52/100\n",
            "32000/32000 [==============================] - 169s 5ms/step - loss: 0.2545 - acc: 0.9068 - val_loss: 0.8538 - val_acc: 0.7683\n",
            "Epoch 53/100\n",
            "32000/32000 [==============================] - 169s 5ms/step - loss: 0.2494 - acc: 0.9113 - val_loss: 0.8507 - val_acc: 0.7748\n",
            "Epoch 54/100\n",
            "32000/32000 [==============================] - 169s 5ms/step - loss: 0.2502 - acc: 0.9088 - val_loss: 0.8767 - val_acc: 0.7682\n",
            "Epoch 55/100\n",
            "32000/32000 [==============================] - 169s 5ms/step - loss: 0.2472 - acc: 0.9091 - val_loss: 0.8850 - val_acc: 0.7679\n",
            "Epoch 56/100\n",
            "32000/32000 [==============================] - 169s 5ms/step - loss: 0.2445 - acc: 0.9112 - val_loss: 0.8940 - val_acc: 0.7709\n",
            "Epoch 57/100\n",
            "32000/32000 [==============================] - 173s 5ms/step - loss: 0.2339 - acc: 0.9149 - val_loss: 0.8889 - val_acc: 0.7691\n",
            "Epoch 58/100\n",
            "32000/32000 [==============================] - 172s 5ms/step - loss: 0.2306 - acc: 0.9158 - val_loss: 0.8930 - val_acc: 0.7755\n",
            "Epoch 59/100\n",
            "32000/32000 [==============================] - 172s 5ms/step - loss: 0.2394 - acc: 0.9137 - val_loss: 0.8813 - val_acc: 0.7732\n",
            "Epoch 60/100\n",
            "32000/32000 [==============================] - 172s 5ms/step - loss: 0.2257 - acc: 0.9183 - val_loss: 0.8945 - val_acc: 0.7715\n",
            "Epoch 61/100\n",
            "32000/32000 [==============================] - 172s 5ms/step - loss: 0.2267 - acc: 0.9164 - val_loss: 0.8868 - val_acc: 0.7758\n",
            "Epoch 62/100\n",
            "32000/32000 [==============================] - 171s 5ms/step - loss: 0.2271 - acc: 0.9168 - val_loss: 0.9137 - val_acc: 0.7725\n",
            "Epoch 63/100\n",
            "32000/32000 [==============================] - 171s 5ms/step - loss: 0.2298 - acc: 0.9170 - val_loss: 0.9249 - val_acc: 0.7678\n",
            "Epoch 64/100\n",
            "32000/32000 [==============================] - 171s 5ms/step - loss: 0.2254 - acc: 0.9178 - val_loss: 0.9151 - val_acc: 0.7716\n",
            "Epoch 65/100\n",
            "32000/32000 [==============================] - 171s 5ms/step - loss: 0.2240 - acc: 0.9206 - val_loss: 0.8918 - val_acc: 0.7763\n",
            "Epoch 66/100\n",
            "32000/32000 [==============================] - 171s 5ms/step - loss: 0.2175 - acc: 0.9215 - val_loss: 0.9302 - val_acc: 0.7691\n",
            "Epoch 67/100\n",
            "32000/32000 [==============================] - 171s 5ms/step - loss: 0.2158 - acc: 0.9221 - val_loss: 0.9171 - val_acc: 0.7757\n",
            "Epoch 68/100\n",
            "32000/32000 [==============================] - 171s 5ms/step - loss: 0.2144 - acc: 0.9217 - val_loss: 0.9616 - val_acc: 0.7668\n",
            "Epoch 69/100\n",
            "32000/32000 [==============================] - 171s 5ms/step - loss: 0.2194 - acc: 0.9196 - val_loss: 0.8979 - val_acc: 0.7757\n",
            "Epoch 70/100\n",
            "32000/32000 [==============================] - 171s 5ms/step - loss: 0.2080 - acc: 0.9238 - val_loss: 0.9293 - val_acc: 0.7702\n",
            "Epoch 71/100\n",
            "32000/32000 [==============================] - 171s 5ms/step - loss: 0.2140 - acc: 0.9243 - val_loss: 0.8890 - val_acc: 0.7790\n",
            "Epoch 72/100\n",
            "32000/32000 [==============================] - 171s 5ms/step - loss: 0.2074 - acc: 0.9252 - val_loss: 0.9473 - val_acc: 0.7784\n",
            "Epoch 73/100\n",
            "32000/32000 [==============================] - 170s 5ms/step - loss: 0.2122 - acc: 0.9233 - val_loss: 0.9448 - val_acc: 0.7729\n",
            "Epoch 74/100\n",
            "32000/32000 [==============================] - 171s 5ms/step - loss: 0.2078 - acc: 0.9244 - val_loss: 0.9516 - val_acc: 0.7735\n",
            "Epoch 75/100\n",
            "32000/32000 [==============================] - 171s 5ms/step - loss: 0.2083 - acc: 0.9228 - val_loss: 0.9553 - val_acc: 0.7730\n",
            "Epoch 76/100\n",
            "32000/32000 [==============================] - 170s 5ms/step - loss: 0.2022 - acc: 0.9269 - val_loss: 0.9336 - val_acc: 0.7726\n",
            "Epoch 77/100\n",
            "32000/32000 [==============================] - 171s 5ms/step - loss: 0.1946 - acc: 0.9288 - val_loss: 0.9918 - val_acc: 0.7683\n",
            "Epoch 78/100\n",
            "32000/32000 [==============================] - 170s 5ms/step - loss: 0.2048 - acc: 0.9244 - val_loss: 0.9807 - val_acc: 0.7716\n",
            "Epoch 79/100\n",
            "32000/32000 [==============================] - 170s 5ms/step - loss: 0.1991 - acc: 0.9272 - val_loss: 0.9539 - val_acc: 0.7715\n",
            "Epoch 80/100\n",
            "32000/32000 [==============================] - 170s 5ms/step - loss: 0.2033 - acc: 0.9277 - val_loss: 0.9851 - val_acc: 0.7682\n",
            "Epoch 81/100\n",
            "32000/32000 [==============================] - 170s 5ms/step - loss: 0.1976 - acc: 0.9272 - val_loss: 0.9759 - val_acc: 0.7674\n",
            "Epoch 82/100\n",
            "32000/32000 [==============================] - 170s 5ms/step - loss: 0.1951 - acc: 0.9292 - val_loss: 0.9337 - val_acc: 0.7756\n",
            "Epoch 83/100\n",
            "32000/32000 [==============================] - 170s 5ms/step - loss: 0.1917 - acc: 0.9309 - val_loss: 0.9559 - val_acc: 0.7723\n",
            "Epoch 84/100\n",
            "32000/32000 [==============================] - 170s 5ms/step - loss: 0.1935 - acc: 0.9302 - val_loss: 0.9966 - val_acc: 0.7686\n",
            "Epoch 85/100\n",
            "32000/32000 [==============================] - 170s 5ms/step - loss: 0.1905 - acc: 0.9306 - val_loss: 0.9899 - val_acc: 0.7719\n",
            "Epoch 86/100\n",
            "32000/32000 [==============================] - 170s 5ms/step - loss: 0.1916 - acc: 0.9314 - val_loss: 0.9940 - val_acc: 0.7700\n",
            "Epoch 87/100\n",
            "32000/32000 [==============================] - 170s 5ms/step - loss: 0.1872 - acc: 0.9314 - val_loss: 1.0140 - val_acc: 0.7724\n",
            "Epoch 88/100\n",
            "32000/32000 [==============================] - 171s 5ms/step - loss: 0.1945 - acc: 0.9301 - val_loss: 0.9788 - val_acc: 0.7748\n",
            "Epoch 89/100\n",
            "32000/32000 [==============================] - 171s 5ms/step - loss: 0.1797 - acc: 0.9349 - val_loss: 0.9871 - val_acc: 0.7754\n",
            "Epoch 90/100\n",
            "32000/32000 [==============================] - 171s 5ms/step - loss: 0.1853 - acc: 0.9344 - val_loss: 1.0299 - val_acc: 0.7722\n",
            "Epoch 91/100\n",
            "32000/32000 [==============================] - 171s 5ms/step - loss: 0.1902 - acc: 0.9323 - val_loss: 0.9837 - val_acc: 0.7700\n",
            "Epoch 92/100\n",
            "32000/32000 [==============================] - 169s 5ms/step - loss: 0.1924 - acc: 0.9309 - val_loss: 0.9734 - val_acc: 0.7700\n",
            "Epoch 93/100\n",
            "32000/32000 [==============================] - 170s 5ms/step - loss: 0.1858 - acc: 0.9327 - val_loss: 0.9802 - val_acc: 0.7716\n",
            "Epoch 94/100\n",
            "32000/32000 [==============================] - 169s 5ms/step - loss: 0.1845 - acc: 0.9340 - val_loss: 0.9669 - val_acc: 0.7702\n",
            "Epoch 95/100\n",
            "32000/32000 [==============================] - 169s 5ms/step - loss: 0.1771 - acc: 0.9363 - val_loss: 0.9896 - val_acc: 0.7718\n",
            "Epoch 96/100\n",
            "32000/32000 [==============================] - 169s 5ms/step - loss: 0.1768 - acc: 0.9371 - val_loss: 0.9609 - val_acc: 0.7700\n",
            "Epoch 97/100\n",
            "32000/32000 [==============================] - 169s 5ms/step - loss: 0.1789 - acc: 0.9357 - val_loss: 0.9997 - val_acc: 0.7692\n",
            "Epoch 98/100\n",
            "32000/32000 [==============================] - 169s 5ms/step - loss: 0.1780 - acc: 0.9376 - val_loss: 1.0202 - val_acc: 0.7721\n",
            "Epoch 99/100\n",
            "32000/32000 [==============================] - 170s 5ms/step - loss: 0.1806 - acc: 0.9344 - val_loss: 1.0007 - val_acc: 0.7701\n",
            "Epoch 100/100\n",
            "32000/32000 [==============================] - 171s 5ms/step - loss: 0.1796 - acc: 0.9355 - val_loss: 1.0063 - val_acc: 0.7729\n",
            "Model took 17100.95 seconds to train\n"
          ],
          "name": "stdout"
        }
      ]
    },
    {
      "cell_type": "code",
      "metadata": {
        "id": "w3E-TPy7n0zW",
        "colab_type": "code",
        "colab": {}
      },
      "source": [
        "model_path = ROOT + '/cifar/model'\n",
        "model.save(model_path)"
      ],
      "execution_count": 0,
      "outputs": []
    },
    {
      "cell_type": "code",
      "metadata": {
        "id": "32lYnrM6diBK",
        "colab_type": "code",
        "colab": {
          "base_uri": "https://localhost:8080/",
          "height": 399
        },
        "outputId": "303d0a50-1ecb-428a-fd3c-ac6781de4db8"
      },
      "source": [
        "plot_model_history(fit_history)\n",
        "\n",
        "acc = model.evaluate(X_test, y_test, batch_size=128, verbose=1)\n",
        "print('\\nTest result: %.3f loss: %.3f' % (acc[1]*100, acc[0]))"
      ],
      "execution_count": 9,
      "outputs": [
        {
          "output_type": "display_data",
          "data": {
            "image/png": "[encoded data removed]",
            "text/plain": [
              "<Figure size 720x360 with 2 Axes>"
            ]
          },
          "metadata": {
            "tags": [],
            "image/png": {
              "width": 608,
              "height": 331
            }
          }
        },
        {
          "output_type": "stream",
          "text": [
            "10000/10000 [==============================] - 12s 1ms/step\n",
            "\n",
            "Test result: 77.290 loss: 1.006\n"
          ],
          "name": "stdout"
        }
      ]
    },
    {
      "cell_type": "code",
      "metadata": {
        "id": "hCCnyqQvdmnH",
        "colab_type": "code",
        "colab": {
          "base_uri": "https://localhost:8080/",
          "height": 68
        },
        "outputId": "07dd096b-5d67-433e-ec83-2fa2c197ba84"
      },
      "source": [
        "acc = model.evaluate(X_val, y_val, batch_size=128, verbose=1)\n",
        "print('\\nTest result: %.3f loss: %.3f' % (acc[1]*100, acc[0]))"
      ],
      "execution_count": 10,
      "outputs": [
        {
          "output_type": "stream",
          "text": [
            "8000/8000 [==============================] - 10s 1ms/step\n",
            "\n",
            "Test result: 77.825 loss: 0.996\n"
          ],
          "name": "stdout"
        }
      ]
    },
    {
      "cell_type": "code",
      "metadata": {
        "id": "CCEIpSAoIeRQ",
        "colab_type": "code",
        "outputId": "279df799-b0dc-41bf-ac6f-a2bdd9cf794b",
        "colab": {
          "base_uri": "https://localhost:8080/",
          "height": 658
        }
      },
      "source": [
        "from keras.models import load_model\n",
        "model = load_model(model_path)\n"
      ],
      "execution_count": 0,
      "outputs": [
        {
          "output_type": "stream",
          "text": [
            "Using TensorFlow backend.\n"
          ],
          "name": "stderr"
        },
        {
          "output_type": "stream",
          "text": [
            "WARNING:tensorflow:From /usr/local/lib/python3.6/dist-packages/keras/backend/tensorflow_backend.py:541: The name tf.placeholder is deprecated. Please use tf.compat.v1.placeholder instead.\n",
            "\n",
            "WARNING:tensorflow:From /usr/local/lib/python3.6/dist-packages/keras/backend/tensorflow_backend.py:4432: The name tf.random_uniform is deprecated. Please use tf.random.uniform instead.\n",
            "\n",
            "WARNING:tensorflow:From /usr/local/lib/python3.6/dist-packages/keras/backend/tensorflow_backend.py:4267: The name tf.nn.max_pool is deprecated. Please use tf.nn.max_pool2d instead.\n",
            "\n",
            "WARNING:tensorflow:From /usr/local/lib/python3.6/dist-packages/keras/backend/tensorflow_backend.py:66: The name tf.get_default_graph is deprecated. Please use tf.compat.v1.get_default_graph instead.\n",
            "\n",
            "WARNING:tensorflow:From /usr/local/lib/python3.6/dist-packages/keras/backend/tensorflow_backend.py:148: The name tf.placeholder_with_default is deprecated. Please use tf.compat.v1.placeholder_with_default instead.\n",
            "\n",
            "WARNING:tensorflow:From /usr/local/lib/python3.6/dist-packages/keras/backend/tensorflow_backend.py:3733: calling dropout (from tensorflow.python.ops.nn_ops) with keep_prob is deprecated and will be removed in a future version.\n",
            "Instructions for updating:\n",
            "Please use `rate` instead of `keep_prob`. Rate should be set to `rate = 1 - keep_prob`.\n",
            "WARNING:tensorflow:From /usr/local/lib/python3.6/dist-packages/keras/backend/tensorflow_backend.py:190: The name tf.get_default_session is deprecated. Please use tf.compat.v1.get_default_session instead.\n",
            "\n",
            "WARNING:tensorflow:From /usr/local/lib/python3.6/dist-packages/keras/backend/tensorflow_backend.py:197: The name tf.ConfigProto is deprecated. Please use tf.compat.v1.ConfigProto instead.\n",
            "\n",
            "WARNING:tensorflow:From /usr/local/lib/python3.6/dist-packages/keras/backend/tensorflow_backend.py:203: The name tf.Session is deprecated. Please use tf.compat.v1.Session instead.\n",
            "\n",
            "WARNING:tensorflow:From /usr/local/lib/python3.6/dist-packages/keras/backend/tensorflow_backend.py:207: The name tf.global_variables is deprecated. Please use tf.compat.v1.global_variables instead.\n",
            "\n",
            "WARNING:tensorflow:From /usr/local/lib/python3.6/dist-packages/keras/backend/tensorflow_backend.py:216: The name tf.is_variable_initialized is deprecated. Please use tf.compat.v1.is_variable_initialized instead.\n",
            "\n",
            "WARNING:tensorflow:From /usr/local/lib/python3.6/dist-packages/keras/backend/tensorflow_backend.py:223: The name tf.variables_initializer is deprecated. Please use tf.compat.v1.variables_initializer instead.\n",
            "\n",
            "WARNING:tensorflow:From /usr/local/lib/python3.6/dist-packages/keras/optimizers.py:793: The name tf.train.Optimizer is deprecated. Please use tf.compat.v1.train.Optimizer instead.\n",
            "\n",
            "WARNING:tensorflow:From /usr/local/lib/python3.6/dist-packages/keras/backend/tensorflow_backend.py:3576: The name tf.log is deprecated. Please use tf.math.log instead.\n",
            "\n",
            "WARNING:tensorflow:From /usr/local/lib/python3.6/dist-packages/tensorflow_core/python/ops/math_grad.py:1424: where (from tensorflow.python.ops.array_ops) is deprecated and will be removed in a future version.\n",
            "Instructions for updating:\n",
            "Use tf.where in 2.0, which has the same broadcast rule as np.where\n",
            "WARNING:tensorflow:From /usr/local/lib/python3.6/dist-packages/keras/backend/tensorflow_backend.py:1033: The name tf.assign_add is deprecated. Please use tf.compat.v1.assign_add instead.\n",
            "\n",
            "WARNING:tensorflow:From /usr/local/lib/python3.6/dist-packages/keras/backend/tensorflow_backend.py:1020: The name tf.assign is deprecated. Please use tf.compat.v1.assign instead.\n",
            "\n"
          ],
          "name": "stdout"
        }
      ]
    },
    {
      "cell_type": "code",
      "metadata": {
        "id": "6NGMnuReIjKW",
        "colab_type": "code",
        "outputId": "485e3272-f980-4d31-f3b8-6e89eac0861d",
        "colab": {
          "base_uri": "https://localhost:8080/",
          "height": 67
        }
      },
      "source": [
        "acc = model.evaluate(X_test, y_test, batch_size=128, verbose=1)\n",
        "print('\\nTest result: %.3f loss: %.3f' % (acc[1]*100, acc[0]))\n"
      ],
      "execution_count": 0,
      "outputs": [
        {
          "output_type": "stream",
          "text": [
            "10000/10000 [==============================] - 12s 1ms/step\n",
            "\n",
            "Test result: 77.300 loss: 1.018\n"
          ],
          "name": "stdout"
        }
      ]
    },
    {
      "cell_type": "code",
      "metadata": {
        "id": "tN-Kgc3dIzrA",
        "colab_type": "code",
        "outputId": "389648a1-c71d-4657-e0fa-d5cd2d1e704e",
        "colab": {
          "base_uri": "https://localhost:8080/",
          "height": 67
        }
      },
      "source": [
        "acc = model.evaluate(X_val, y_val, batch_size=128, verbose=1)\n",
        "print('\\nTest result: %.3f loss: %.3f' % (acc[1]*100, acc[0]))\n"
      ],
      "execution_count": 0,
      "outputs": [
        {
          "output_type": "stream",
          "text": [
            "8000/8000 [==============================] - 9s 1ms/step\n",
            "\n",
            "Test result: 77.737 loss: 1.014\n"
          ],
          "name": "stdout"
        }
      ]
    },
    {
      "cell_type": "code",
      "metadata": {
        "id": "4A_iylZ9I4f6",
        "colab_type": "code",
        "colab": {}
      },
      "source": [
        ""
      ],
      "execution_count": 0,
      "outputs": []
    }
  ]
}