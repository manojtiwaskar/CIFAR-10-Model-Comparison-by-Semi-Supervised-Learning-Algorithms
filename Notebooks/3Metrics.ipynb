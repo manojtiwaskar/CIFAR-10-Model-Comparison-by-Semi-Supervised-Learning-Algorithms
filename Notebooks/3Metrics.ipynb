{
  "nbformat": 4,
  "nbformat_minor": 0,
  "metadata": {
    "colab": {
      "name": "Metrics.ipynb",
      "provenance": []
    },
    "kernelspec": {
      "name": "python3",
      "display_name": "Python 3"
    }
  },
  "cells": [
    {
      "cell_type": "code",
      "metadata": {
        "id": "lm2Jj3S54fJl",
        "colab_type": "code",
        "colab": {}
      },
      "source": [
        "import numpy as np\n",
        "import random"
      ],
      "execution_count": 0,
      "outputs": []
    },
    {
      "cell_type": "markdown",
      "metadata": {
        "id": "PUP0JTAUic9Y",
        "colab_type": "text"
      },
      "source": [
        "https://stats.stackexchange.com/questions/179835/how-to-build-a-confusion-matrix-for-a-multiclass-classifier"
      ]
    },
    {
      "cell_type": "code",
      "metadata": {
        "id": "542n-rLj2GAA",
        "colab_type": "code",
        "colab": {
          "base_uri": "https://localhost:8080/",
          "height": 185
        },
        "outputId": "00ccb68b-e22c-4025-d580-4db4f1741012"
      },
      "source": [
        "confusion = np.random.randint(10, size=(10, 10))\n",
        "for i in range(10):\n",
        "  confusion[i][i] = random.randint(100, 200)\n",
        "confusion"
      ],
      "execution_count": 10,
      "outputs": [
        {
          "output_type": "execute_result",
          "data": {
            "text/plain": [
              "array([[160,   0,   1,   3,   0,   8,   6,   2,   8,   5],\n",
              "       [  2, 137,   1,   2,   8,   7,   8,   8,   0,   3],\n",
              "       [  4,   0, 200,   8,   4,   9,   3,   8,   0,   0],\n",
              "       [  6,   4,   0, 133,   6,   0,   6,   5,   8,   9],\n",
              "       [  8,   8,   7,   9, 178,   1,   6,   7,   0,   2],\n",
              "       [  8,   7,   4,   7,   0, 198,   8,   2,   0,   2],\n",
              "       [  8,   0,   1,   4,   3,   7, 167,   8,   0,   2],\n",
              "       [  4,   6,   0,   2,   9,   9,   9, 103,   5,   7],\n",
              "       [  7,   5,   1,   0,   1,   7,   9,   7, 177,   1],\n",
              "       [  1,   2,   1,   4,   2,   8,   2,   2,   7, 123]])"
            ]
          },
          "metadata": {
            "tags": []
          },
          "execution_count": 10
        }
      ]
    },
    {
      "cell_type": "markdown",
      "metadata": {
        "id": "BHSrCS8Vj8TZ",
        "colab_type": "text"
      },
      "source": [
        "https://stats.stackexchange.com/a/338240\n"
      ]
    },
    {
      "cell_type": "code",
      "metadata": {
        "id": "NXKpPSKOjLZm",
        "colab_type": "code",
        "colab": {
          "base_uri": "https://localhost:8080/",
          "height": 34
        },
        "outputId": "2288a08e-b56e-4bd0-fee4-de5ddab6650a"
      },
      "source": [
        "true_positive = np.zeros(10)\n",
        "for i in range(10):\n",
        "  true_positive[i] = confusion[i][i]\n",
        "true_positive"
      ],
      "execution_count": 20,
      "outputs": [
        {
          "output_type": "execute_result",
          "data": {
            "text/plain": [
              "array([160., 137., 200., 133., 178., 198., 167., 103., 177., 123.])"
            ]
          },
          "metadata": {
            "tags": []
          },
          "execution_count": 20
        }
      ]
    },
    {
      "cell_type": "code",
      "metadata": {
        "id": "Q52Xuk9yjZAE",
        "colab_type": "code",
        "colab": {
          "base_uri": "https://localhost:8080/",
          "height": 34
        },
        "outputId": "50d98286-6699-45f1-97c3-11d138325ded"
      },
      "source": [
        "s = np.sum(confusion, axis=0)\n",
        "false_positive = np.zeros(10)\n",
        "for i in range(10):\n",
        "  false_positive[i] = s[i] - true_positive[i]\n",
        "false_positive"
      ],
      "execution_count": 22,
      "outputs": [
        {
          "output_type": "execute_result",
          "data": {
            "text/plain": [
              "array([48., 32., 16., 39., 33., 56., 57., 49., 28., 31.])"
            ]
          },
          "metadata": {
            "tags": []
          },
          "execution_count": 22
        }
      ]
    },
    {
      "cell_type": "code",
      "metadata": {
        "id": "uybDRmHcjv2A",
        "colab_type": "code",
        "colab": {
          "base_uri": "https://localhost:8080/",
          "height": 34
        },
        "outputId": "b738a8b9-b0f0-4b3b-ac0e-f4a4d4e3e55b"
      },
      "source": [
        "s = np.sum(confusion, axis=1)\n",
        "false_negative = np.zeros(10)\n",
        "for i in range(10):\n",
        "  false_negative[i] = s[i] - true_positive[i]\n",
        "false_negative"
      ],
      "execution_count": 23,
      "outputs": [
        {
          "output_type": "execute_result",
          "data": {
            "text/plain": [
              "array([33., 39., 36., 44., 48., 38., 33., 51., 38., 29.])"
            ]
          },
          "metadata": {
            "tags": []
          },
          "execution_count": 23
        }
      ]
    },
    {
      "cell_type": "code",
      "metadata": {
        "id": "4OE64UvDj3TS",
        "colab_type": "code",
        "colab": {
          "base_uri": "https://localhost:8080/",
          "height": 50
        },
        "outputId": "94ff0f84-b403-407a-e1c5-e212c19196db"
      },
      "source": [
        "s = np.sum(np.sum(confusion, axis=1))\n",
        "true_negative = np.zeros(10)\n",
        "for i in range(10):\n",
        "  true_negative[i] = s - true_positive[i] - false_positive[i] - false_negative[i]\n",
        "true_negative"
      ],
      "execution_count": 24,
      "outputs": [
        {
          "output_type": "execute_result",
          "data": {
            "text/plain": [
              "array([1724., 1757., 1713., 1749., 1706., 1673., 1708., 1762., 1722.,\n",
              "       1782.])"
            ]
          },
          "metadata": {
            "tags": []
          },
          "execution_count": 24
        }
      ]
    },
    {
      "cell_type": "markdown",
      "metadata": {
        "id": "NQyx-BYykbdf",
        "colab_type": "text"
      },
      "source": [
        "https://towardsdatascience.com/understanding-data-science-classification-metrics-in-scikit-learn-in-python-3bc336865019"
      ]
    },
    {
      "cell_type": "code",
      "metadata": {
        "id": "ccJapQVDkPwm",
        "colab_type": "code",
        "colab": {
          "base_uri": "https://localhost:8080/",
          "height": 50
        },
        "outputId": "b134454a-c2a5-4882-c015-dac56d9f1536"
      },
      "source": [
        "accuracy = (true_positive + true_negative)/(true_positive + true_negative + false_positive + false_negative)\n",
        "accuracy"
      ],
      "execution_count": 27,
      "outputs": [
        {
          "output_type": "execute_result",
          "data": {
            "text/plain": [
              "array([0.95877863, 0.96386768, 0.9735369 , 0.95776081, 0.95877863,\n",
              "       0.95216285, 0.95419847, 0.94910941, 0.96641221, 0.96946565])"
            ]
          },
          "metadata": {
            "tags": []
          },
          "execution_count": 27
        }
      ]
    },
    {
      "cell_type": "code",
      "metadata": {
        "id": "sJTgco4Ok9C4",
        "colab_type": "code",
        "colab": {
          "base_uri": "https://localhost:8080/",
          "height": 34
        },
        "outputId": "0ed8cbf1-3645-4e8f-889e-a49e31ca248b"
      },
      "source": [
        "np.sum(accuracy)/10"
      ],
      "execution_count": 31,
      "outputs": [
        {
          "output_type": "execute_result",
          "data": {
            "text/plain": [
              "0.9604071246819339"
            ]
          },
          "metadata": {
            "tags": []
          },
          "execution_count": 31
        }
      ]
    },
    {
      "cell_type": "code",
      "metadata": {
        "id": "lFc_hsUnkugA",
        "colab_type": "code",
        "colab": {
          "base_uri": "https://localhost:8080/",
          "height": 50
        },
        "outputId": "51501399-8491-410e-ad5a-8ff9f6bcf043"
      },
      "source": [
        "recall = (true_positive)/(true_positive + false_negative)\n",
        "recall"
      ],
      "execution_count": 29,
      "outputs": [
        {
          "output_type": "execute_result",
          "data": {
            "text/plain": [
              "array([0.82901554, 0.77840909, 0.84745763, 0.75141243, 0.78761062,\n",
              "       0.83898305, 0.835     , 0.66883117, 0.82325581, 0.80921053])"
            ]
          },
          "metadata": {
            "tags": []
          },
          "execution_count": 29
        }
      ]
    },
    {
      "cell_type": "code",
      "metadata": {
        "id": "FPxwGRcfk_i5",
        "colab_type": "code",
        "colab": {
          "base_uri": "https://localhost:8080/",
          "height": 34
        },
        "outputId": "ba331422-5945-4c6b-e8ab-fc07a51c6cca"
      },
      "source": [
        "np.sum(recall)/10"
      ],
      "execution_count": 32,
      "outputs": [
        {
          "output_type": "execute_result",
          "data": {
            "text/plain": [
              "0.7969185870864648"
            ]
          },
          "metadata": {
            "tags": []
          },
          "execution_count": 32
        }
      ]
    },
    {
      "cell_type": "code",
      "metadata": {
        "id": "Z23olnnWk5U4",
        "colab_type": "code",
        "colab": {
          "base_uri": "https://localhost:8080/",
          "height": 50
        },
        "outputId": "bfc3feaf-49c6-48e4-f24b-7d7b139d268e"
      },
      "source": [
        "precision = (true_positive)/(true_positive + false_positive)\n",
        "precision"
      ],
      "execution_count": 33,
      "outputs": [
        {
          "output_type": "execute_result",
          "data": {
            "text/plain": [
              "array([0.76923077, 0.81065089, 0.92592593, 0.77325581, 0.8436019 ,\n",
              "       0.77952756, 0.74553571, 0.67763158, 0.86341463, 0.7987013 ])"
            ]
          },
          "metadata": {
            "tags": []
          },
          "execution_count": 33
        }
      ]
    },
    {
      "cell_type": "code",
      "metadata": {
        "id": "0WuHNvoOlFsi",
        "colab_type": "code",
        "colab": {
          "base_uri": "https://localhost:8080/",
          "height": 34
        },
        "outputId": "0b984c98-9fef-477c-c4c2-000fdec54f38"
      },
      "source": [
        "np.sum(precision)/10"
      ],
      "execution_count": 34,
      "outputs": [
        {
          "output_type": "execute_result",
          "data": {
            "text/plain": [
              "0.7987476077554587"
            ]
          },
          "metadata": {
            "tags": []
          },
          "execution_count": 34
        }
      ]
    },
    {
      "cell_type": "code",
      "metadata": {
        "id": "PuG9dM2llGwl",
        "colab_type": "code",
        "colab": {
          "base_uri": "https://localhost:8080/",
          "height": 50
        },
        "outputId": "00581675-7768-4f71-c920-2c78a27e0995"
      },
      "source": [
        "f1 = (2 * precision * recall)/(precision + recall)\n",
        "f1"
      ],
      "execution_count": 35,
      "outputs": [
        {
          "output_type": "execute_result",
          "data": {
            "text/plain": [
              "array([0.79800499, 0.7942029 , 0.88495575, 0.76217765, 0.81464531,\n",
              "       0.80816327, 0.78773585, 0.67320261, 0.84285714, 0.80392157])"
            ]
          },
          "metadata": {
            "tags": []
          },
          "execution_count": 35
        }
      ]
    },
    {
      "cell_type": "code",
      "metadata": {
        "id": "BlwF290YlN5t",
        "colab_type": "code",
        "colab": {
          "base_uri": "https://localhost:8080/",
          "height": 34
        },
        "outputId": "c89f9261-41e0-46c1-eb2d-14153f6610cb"
      },
      "source": [
        "np.sum(f1)/10"
      ],
      "execution_count": 37,
      "outputs": [
        {
          "output_type": "execute_result",
          "data": {
            "text/plain": [
              "0.7969867037874975"
            ]
          },
          "metadata": {
            "tags": []
          },
          "execution_count": 37
        }
      ]
    },
    {
      "cell_type": "code",
      "metadata": {
        "id": "q_rkPFpVlQBr",
        "colab_type": "code",
        "colab": {}
      },
      "source": [
        ""
      ],
      "execution_count": 0,
      "outputs": []
    }
  ]
}