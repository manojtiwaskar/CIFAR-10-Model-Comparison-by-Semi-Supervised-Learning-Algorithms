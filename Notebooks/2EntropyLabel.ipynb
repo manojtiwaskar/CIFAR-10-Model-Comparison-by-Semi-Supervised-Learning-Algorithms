{
  "nbformat": 4,
  "nbformat_minor": 0,
  "metadata": {
    "colab": {
      "name": "EntropyLabel.ipynb",
      "provenance": [],
      "collapsed_sections": []
    },
    "kernelspec": {
      "name": "python3",
      "display_name": "Python 3"
    }
  },
  "cells": [
    {
      "cell_type": "code",
      "metadata": {
        "id": "z6JNuM7SvoJY",
        "colab_type": "code",
        "outputId": "d10ffd61-94a9-457a-d384-5f5614257794",
        "colab": {
          "base_uri": "https://localhost:8080/",
          "height": 121
        }
      },
      "source": [
        "from google.colab import drive\n",
        "drive.mount('/content/drive')"
      ],
      "execution_count": 0,
      "outputs": [
        {
          "output_type": "stream",
          "text": [
            "Go to this URL in a browser: https://accounts.google.com/o/oauth2/auth?client_id=947318989803-6bn6qk8qdgf4n4g3pfee6491hc0brc4i.apps.googleusercontent.com&redirect_uri=urn%3aietf%3awg%3aoauth%3a2.0%3aoob&response_type=code&scope=email%20https%3a%2f%2fwww.googleapis.com%2fauth%2fdocs.test%20https%3a%2f%2fwww.googleapis.com%2fauth%2fdrive%20https%3a%2f%2fwww.googleapis.com%2fauth%2fdrive.photos.readonly%20https%3a%2f%2fwww.googleapis.com%2fauth%2fpeopleapi.readonly\n",
            "\n",
            "Enter your authorization code:\n",
            "··········\n",
            "Mounted at /content/drive\n"
          ],
          "name": "stdout"
        }
      ]
    },
    {
      "cell_type": "code",
      "metadata": {
        "id": "GEpqGk9NvrVU",
        "colab_type": "code",
        "outputId": "7e31fa8b-cd06-4e69-ce54-ca3f95694455",
        "colab": {
          "base_uri": "https://localhost:8080/",
          "height": 50
        }
      },
      "source": [
        "%tensorflow_version 2.x\n",
        "import tensorflow\n",
        "print(tensorflow.__version__)"
      ],
      "execution_count": 0,
      "outputs": [
        {
          "output_type": "stream",
          "text": [
            "TensorFlow 2.x selected.\n",
            "2.0.0\n"
          ],
          "name": "stdout"
        }
      ]
    },
    {
      "cell_type": "code",
      "metadata": {
        "id": "fq936W0vvvXi",
        "colab_type": "code",
        "colab": {}
      },
      "source": [
        "import os\n",
        "\n",
        "import numpy as np\n",
        "import pandas as pd\n",
        "import matplotlib.pyplot as plt\n",
        "from sklearn.decomposition import PCA\n",
        "\n",
        "import pickle\n",
        "import numpy as np\n",
        "import matplotlib.pyplot as plt\n",
        "\n",
        "%matplotlib inline\n",
        "%config InlineBackend.figure_format = 'retina'"
      ],
      "execution_count": 0,
      "outputs": []
    },
    {
      "cell_type": "code",
      "metadata": {
        "id": "ukOT_8GzvwHi",
        "colab_type": "code",
        "colab": {}
      },
      "source": [
        "ROOT = '/content/drive/My Drive/19 Fall/CSE 569/Project'"
      ],
      "execution_count": 0,
      "outputs": []
    },
    {
      "cell_type": "code",
      "metadata": {
        "id": "CTFaaakwvw06",
        "colab_type": "code",
        "outputId": "83774b1c-8e90-4f31-a41f-db4b00bc83f5",
        "colab": {
          "base_uri": "https://localhost:8080/",
          "height": 118
        }
      },
      "source": [
        "X_train = pickle.load(open(ROOT + '/cifar/X_train', mode='rb'))\n",
        "print(X_train.shape)\n",
        "X_test = pickle.load(open(ROOT + '/cifar/X_test', mode='rb'))\n",
        "print(X_test.shape)\n",
        "X_val = pickle.load(open(ROOT + '/cifar/X_val', mode='rb'))\n",
        "print(X_val.shape)\n",
        "y_train = pickle.load(open(ROOT + '/cifar/y_train', mode='rb'))\n",
        "print(y_train.shape)\n",
        "y_test = pickle.load(open(ROOT + '/cifar/y_test', mode='rb'))\n",
        "print(y_test.shape)\n",
        "y_val = pickle.load(open(ROOT + '/cifar/y_val', mode='rb'))\n",
        "print(y_val.shape)"
      ],
      "execution_count": 0,
      "outputs": [
        {
          "output_type": "stream",
          "text": [
            "(32000, 32, 32, 3)\n",
            "(10000, 32, 32, 3)\n",
            "(8000, 32, 32, 3)\n",
            "(32000, 10)\n",
            "(10000, 10)\n",
            "(8000, 10)\n"
          ],
          "name": "stdout"
        }
      ]
    },
    {
      "cell_type": "code",
      "metadata": {
        "id": "WgUoG_4QvxlB",
        "colab_type": "code",
        "colab": {}
      },
      "source": [
        "from tensorflow import keras"
      ],
      "execution_count": 0,
      "outputs": []
    },
    {
      "cell_type": "code",
      "metadata": {
        "id": "RzlG5cw7vyZM",
        "colab_type": "code",
        "colab": {}
      },
      "source": [
        "from tensorflow.keras.models import Sequential\n",
        "from tensorflow.keras.models import Sequential\n",
        "from tensorflow.keras.preprocessing.image import ImageDataGenerator\n",
        "from tensorflow.keras.layers import Dense, Activation, Flatten, Dropout, BatchNormalization\n",
        "from tensorflow.keras.layers import Conv2D, MaxPooling2D\n",
        "from tensorflow.keras import regularizers, optimizers"
      ],
      "execution_count": 0,
      "outputs": []
    },
    {
      "cell_type": "code",
      "metadata": {
        "id": "rdQbkQV1vy7Z",
        "colab_type": "code",
        "colab": {}
      },
      "source": [
        "%matplotlib inline\n",
        "import matplotlib.pyplot as plt\n",
        "import numpy as np\n",
        "import time"
      ],
      "execution_count": 0,
      "outputs": []
    },
    {
      "cell_type": "code",
      "metadata": {
        "id": "TMsNyJCTvzeM",
        "colab_type": "code",
        "colab": {}
      },
      "source": [
        "import random"
      ],
      "execution_count": 0,
      "outputs": []
    },
    {
      "cell_type": "code",
      "metadata": {
        "id": "LXiy0wkwv2lQ",
        "colab_type": "code",
        "colab": {}
      },
      "source": [
        "for i in range(32000):\n",
        "  if random.random() > 0.7:\n",
        "    y_train[i] = np.array([-1,-1,-1,-1,-1,-1,-1,-1,-1,-1])"
      ],
      "execution_count": 0,
      "outputs": []
    },
    {
      "cell_type": "code",
      "metadata": {
        "id": "MxU0SEL-v3_p",
        "colab_type": "code",
        "colab": {}
      },
      "source": [
        "def custom_loss(Y, A):\n",
        "  P = tensorflow.keras.backend.abs(Y)\n",
        "  P = tensorflow.keras.backend.min(P, axis=1)\n",
        "  # P = tensorflow.keras.backend.print_tensor(P, message=\"P is: \")\n",
        "\n",
        "  Y_l = tensorflow.boolean_mask(Y, tensorflow.equal(P, 0))\n",
        "  A_l = tensorflow.boolean_mask(A, tensorflow.equal(P, 0))\n",
        "  # A_l = tensorflow.keras.backend.print_tensor(A_l, message=\"A_l is: \")\n",
        "  A_l_log = tensorflow.keras.backend.log(A_l)\n",
        "  A_l = tensorflow.keras.backend.flatten(A_l)\n",
        "  A_l_log = tensorflow.keras.backend.flatten(A_l_log)\n",
        "  A_l_log = tensorflow.keras.backend.abs(A_l_log)\n",
        "  Y_l = tensorflow.keras.backend.flatten(Y_l)\n",
        "\n",
        "  # Y_l = tensorflow.keras.backend.print_tensor(Y_l, message=\"Y_l flattened is: \")\n",
        "  # A_l_log = tensorflow.keras.backend.print_tensor(A_l_log, message=\"A_l_log flattened is: \")\n",
        "\n",
        "  L_l = A_l_log * Y_l\n",
        "  L_l = tensorflow.boolean_mask(L_l, tensorflow.greater(L_l, 0))\n",
        "  L_l = tensorflow.keras.backend.mean(L_l)\n",
        "  # L_l = tensorflow.keras.backend.print_tensor(L_l, message=\"L_l is: \")\n",
        "\n",
        "  Y_u = tensorflow.boolean_mask(Y, tensorflow.greater(P, 0))\n",
        "  A_u = tensorflow.boolean_mask(A, tensorflow.greater(P, 0))\n",
        "  # Y_u = tensorflow.keras.backend.print_tensor(Y_u, message=\"Y_u is: \")\n",
        "  # A_u = tensorflow.keras.backend.print_tensor(A_u, message=\"A_u is: \")\n",
        "  A_u_log = tensorflow.keras.backend.log(A_u)\n",
        "  # A_u_log = tensorflow.keras.backend.print_tensor(A_u_log, message=\"A_u_log is: \")\n",
        "  A_u = tensorflow.keras.backend.flatten(A_u)\n",
        "  A_u_log = tensorflow.keras.backend.flatten(A_u_log)\n",
        "  A_u_log = tensorflow.keras.backend.abs(A_u_log)\n",
        "  L_u = A_u * A_u_log\n",
        "  L_u = tensorflow.keras.backend.mean(L_u)\n",
        "  # L_u = tensorflow.keras.backend.print_tensor(L_u, message=\"L_u is: \")\n",
        "\n",
        "  # L = 0 - L_l - L_u\n",
        "  L = L_l + L_u\n",
        "  # L = tensorflow.keras.backend.print_tensor(L, message=\"L is: \")\n",
        "  return L/1"
      ],
      "execution_count": 0,
      "outputs": []
    },
    {
      "cell_type": "code",
      "metadata": {
        "id": "ufn-N1_fwFW6",
        "colab_type": "code",
        "outputId": "f38f7e2b-985b-4456-b753-d532c89b3141",
        "colab": {
          "base_uri": "https://localhost:8080/",
          "height": 1000
        }
      },
      "source": [
        "# Define the model\n",
        "num_filters = 32\n",
        "\n",
        "model = Sequential()\n",
        "model.add(Conv2D(num_filters, (3,3), padding='same', input_shape=(32, 32, 3)))\n",
        "model.add(Activation('relu'))\n",
        "model.add(Conv2D(num_filters, (3,3), padding='same'))\n",
        "model.add(Activation('relu'))\n",
        "model.add(MaxPooling2D(pool_size=(2,2)))\n",
        "model.add(Dropout(0.2))\n",
        "\n",
        "model.add(Conv2D(2*num_filters, (3,3), padding='same'))\n",
        "model.add(Activation('relu'))\n",
        "model.add(Conv2D(2*num_filters, (3,3), padding='same'))\n",
        "model.add(Activation('relu'))\n",
        "model.add(MaxPooling2D(pool_size=(2,2)))\n",
        "model.add(Dropout(0.25))\n",
        "\n",
        "model.add(Flatten())\n",
        "model.add(Dense(10, activation='softmax'))\n",
        "\n",
        "# Summarize the model\n",
        "model.summary()\n",
        "\n",
        "# Compile the model\n",
        "model.compile(optimizer='adam', loss=custom_loss, metrics=['accuracy'])\n",
        "\n",
        "# Train the model\n",
        "start = time.time()\n",
        "fit_history = model.fit(X_train, y_train,\n",
        "                       batch_size=128, epochs=30,\n",
        "                       validation_data = (X_test, y_test),\n",
        "                       verbose=1)\n",
        "end = time.time()\n",
        "\n",
        "# Training time\n",
        "print(\"Model took %0.2f seconds to train\"%(end - start))"
      ],
      "execution_count": 0,
      "outputs": [
        {
          "output_type": "stream",
          "text": [
            "Model: \"sequential_1\"\n",
            "_________________________________________________________________\n",
            "Layer (type)                 Output Shape              Param #   \n",
            "=================================================================\n",
            "conv2d_4 (Conv2D)            (None, 32, 32, 32)        896       \n",
            "_________________________________________________________________\n",
            "activation_4 (Activation)    (None, 32, 32, 32)        0         \n",
            "_________________________________________________________________\n",
            "conv2d_5 (Conv2D)            (None, 32, 32, 32)        9248      \n",
            "_________________________________________________________________\n",
            "activation_5 (Activation)    (None, 32, 32, 32)        0         \n",
            "_________________________________________________________________\n",
            "max_pooling2d_2 (MaxPooling2 (None, 16, 16, 32)        0         \n",
            "_________________________________________________________________\n",
            "dropout_2 (Dropout)          (None, 16, 16, 32)        0         \n",
            "_________________________________________________________________\n",
            "conv2d_6 (Conv2D)            (None, 16, 16, 64)        18496     \n",
            "_________________________________________________________________\n",
            "activation_6 (Activation)    (None, 16, 16, 64)        0         \n",
            "_________________________________________________________________\n",
            "conv2d_7 (Conv2D)            (None, 16, 16, 64)        36928     \n",
            "_________________________________________________________________\n",
            "activation_7 (Activation)    (None, 16, 16, 64)        0         \n",
            "_________________________________________________________________\n",
            "max_pooling2d_3 (MaxPooling2 (None, 8, 8, 64)          0         \n",
            "_________________________________________________________________\n",
            "dropout_3 (Dropout)          (None, 8, 8, 64)          0         \n",
            "_________________________________________________________________\n",
            "flatten_1 (Flatten)          (None, 4096)              0         \n",
            "_________________________________________________________________\n",
            "dense_1 (Dense)              (None, 10)                40970     \n",
            "=================================================================\n",
            "Total params: 106,538\n",
            "Trainable params: 106,538\n",
            "Non-trainable params: 0\n",
            "_________________________________________________________________\n",
            "Train on 32000 samples, validate on 10000 samples\n",
            "Epoch 1/30\n",
            "32000/32000 [==============================] - 193s 6ms/sample - loss: 1.9431 - accuracy: 0.2920 - val_loss: nan - val_accuracy: 0.4442\n",
            "Epoch 2/30\n",
            "32000/32000 [==============================] - 188s 6ms/sample - loss: 1.5693 - accuracy: 0.3692 - val_loss: nan - val_accuracy: 0.5400\n",
            "Epoch 3/30\n",
            "32000/32000 [==============================] - 185s 6ms/sample - loss: 1.3646 - accuracy: 0.4186 - val_loss: nan - val_accuracy: 0.5893\n",
            "Epoch 4/30\n",
            "32000/32000 [==============================] - 185s 6ms/sample - loss: 1.2182 - accuracy: 0.4524 - val_loss: nan - val_accuracy: 0.6366\n",
            "Epoch 5/30\n",
            "32000/32000 [==============================] - 186s 6ms/sample - loss: 1.1060 - accuracy: 0.4798 - val_loss: nan - val_accuracy: 0.6560\n",
            "Epoch 6/30\n",
            "32000/32000 [==============================] - 182s 6ms/sample - loss: 1.0216 - accuracy: 0.4984 - val_loss: nan - val_accuracy: 0.6709\n",
            "Epoch 7/30\n",
            "32000/32000 [==============================] - 185s 6ms/sample - loss: 0.9608 - accuracy: 0.5169 - val_loss: nan - val_accuracy: 0.6636\n",
            "Epoch 8/30\n",
            "32000/32000 [==============================] - 183s 6ms/sample - loss: 0.8986 - accuracy: 0.5291 - val_loss: nan - val_accuracy: 0.6923\n",
            "Epoch 9/30\n",
            "32000/32000 [==============================] - 185s 6ms/sample - loss: 0.8437 - accuracy: 0.5431 - val_loss: nan - val_accuracy: 0.7035\n",
            "Epoch 10/30\n",
            "32000/32000 [==============================] - 184s 6ms/sample - loss: 0.8093 - accuracy: 0.5476 - val_loss: nan - val_accuracy: 0.6915\n",
            "Epoch 11/30\n",
            "32000/32000 [==============================] - 183s 6ms/sample - loss: 0.7686 - accuracy: 0.5567 - val_loss: nan - val_accuracy: 0.7160\n",
            "Epoch 12/30\n",
            "32000/32000 [==============================] - 186s 6ms/sample - loss: 0.7251 - accuracy: 0.5693 - val_loss: nan - val_accuracy: 0.7149\n",
            "Epoch 13/30\n",
            "32000/32000 [==============================] - 186s 6ms/sample - loss: 0.6806 - accuracy: 0.5778 - val_loss: nan - val_accuracy: 0.7251\n",
            "Epoch 14/30\n",
            "32000/32000 [==============================] - 183s 6ms/sample - loss: 0.6565 - accuracy: 0.5826 - val_loss: nan - val_accuracy: 0.7274\n",
            "Epoch 15/30\n",
            "32000/32000 [==============================] - 185s 6ms/sample - loss: 0.6209 - accuracy: 0.5897 - val_loss: nan - val_accuracy: 0.7248\n",
            "Epoch 16/30\n",
            "32000/32000 [==============================] - 183s 6ms/sample - loss: 0.6041 - accuracy: 0.5944 - val_loss: nan - val_accuracy: 0.7216\n",
            "Epoch 17/30\n",
            "32000/32000 [==============================] - 182s 6ms/sample - loss: 0.5763 - accuracy: 0.6005 - val_loss: nan - val_accuracy: 0.7250\n",
            "Epoch 18/30\n",
            "32000/32000 [==============================] - 186s 6ms/sample - loss: 0.5459 - accuracy: 0.6086 - val_loss: nan - val_accuracy: 0.7300\n",
            "Epoch 19/30\n",
            "32000/32000 [==============================] - 182s 6ms/sample - loss: 0.5291 - accuracy: 0.6085 - val_loss: nan - val_accuracy: 0.7220\n",
            "Epoch 20/30\n",
            "32000/32000 [==============================] - 186s 6ms/sample - loss: 0.5132 - accuracy: 0.6131 - val_loss: nan - val_accuracy: 0.7321\n",
            "Epoch 21/30\n",
            "32000/32000 [==============================] - 183s 6ms/sample - loss: 0.4982 - accuracy: 0.6198 - val_loss: nan - val_accuracy: 0.7353\n",
            "Epoch 22/30\n",
            "32000/32000 [==============================] - 185s 6ms/sample - loss: 0.4709 - accuracy: 0.6232 - val_loss: nan - val_accuracy: 0.7283\n",
            "Epoch 23/30\n",
            "32000/32000 [==============================] - 187s 6ms/sample - loss: 0.4561 - accuracy: 0.6286 - val_loss: nan - val_accuracy: 0.7312\n",
            "Epoch 24/30\n",
            "32000/32000 [==============================] - 183s 6ms/sample - loss: 0.4489 - accuracy: 0.6296 - val_loss: nan - val_accuracy: 0.7313\n",
            "Epoch 25/30\n",
            "32000/32000 [==============================] - 186s 6ms/sample - loss: 0.4327 - accuracy: 0.6328 - val_loss: nan - val_accuracy: 0.7258\n",
            "Epoch 26/30\n",
            "32000/32000 [==============================] - 185s 6ms/sample - loss: 0.4194 - accuracy: 0.6349 - val_loss: nan - val_accuracy: 0.7327\n",
            "Epoch 27/30\n",
            "32000/32000 [==============================] - 183s 6ms/sample - loss: 0.4168 - accuracy: 0.6354 - val_loss: nan - val_accuracy: 0.7262\n",
            "Epoch 28/30\n",
            "32000/32000 [==============================] - 185s 6ms/sample - loss: 0.3966 - accuracy: 0.6403 - val_loss: nan - val_accuracy: 0.7316\n",
            "Epoch 29/30\n",
            "32000/32000 [==============================] - 185s 6ms/sample - loss: 0.3921 - accuracy: 0.6401 - val_loss: nan - val_accuracy: 0.7302\n",
            "Epoch 30/30\n",
            "32000/32000 [==============================] - 186s 6ms/sample - loss: 0.3751 - accuracy: 0.6456 - val_loss: nan - val_accuracy: 0.7345\n",
            "Model took 5549.58 seconds to train\n"
          ],
          "name": "stdout"
        }
      ]
    },
    {
      "cell_type": "code",
      "metadata": {
        "id": "HE4F9aorwJ3L",
        "colab_type": "code",
        "colab": {}
      },
      "source": [
        ""
      ],
      "execution_count": 0,
      "outputs": []
    }
  ]
}